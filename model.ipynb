{
 "cells": [
  {
   "cell_type": "code",
   "execution_count": 3,
   "id": "6799334a-7880-406f-8b82-5b2ae9a738c2",
   "metadata": {},
   "outputs": [
    {
     "name": "stdout",
     "output_type": "stream",
     "text": [
      "Accuracy: 0.66\n",
      "Classification Report:\n",
      "               precision    recall  f1-score   support\n",
      "\n",
      "           0       0.39      0.07      0.12       131\n",
      "           1       0.68      0.95      0.79       269\n",
      "\n",
      "    accuracy                           0.66       400\n",
      "   macro avg       0.53      0.51      0.45       400\n",
      "weighted avg       0.58      0.66      0.57       400\n",
      "\n",
      "Confusion Matrix:\n",
      " [[  9 122]\n",
      " [ 14 255]]\n"
     ]
    }
   ],
   "source": [
    "import pandas as pd\n",
    "from sklearn.model_selection import train_test_split\n",
    "from sklearn.preprocessing import LabelEncoder, StandardScaler\n",
    "from sklearn.ensemble import RandomForestClassifier\n",
    "from sklearn.metrics import accuracy_score, classification_report, confusion_matrix\n",
    "\n",
    "# Load the dataset\n",
    "data = pd.read_csv('student_enrollment_prediction.csv')\n",
    "\n",
    "# Selecting features and target\n",
    "features = data.drop(columns=['Student_ID', 'Enrollment_Status'])\n",
    "target = data['Enrollment_Status']\n",
    "\n",
    "# Encoding categorical variables\n",
    "categorical_cols = ['Gender', 'Family_Income', 'Parent_Education', 'Major', 'Extracurriculars']\n",
    "label_encoders = {col: LabelEncoder() for col in categorical_cols}\n",
    "for col in categorical_cols:\n",
    "    features[col] = label_encoders[col].fit_transform(features[col])\n",
    "\n",
    "# Scaling numerical features\n",
    "numerical_cols = ['Age', 'GPA', 'Attendance_Rate', 'Course_Completion', 'Prior_Dropouts']\n",
    "scaler = StandardScaler()\n",
    "features[numerical_cols] = scaler.fit_transform(features[numerical_cols])\n",
    "\n",
    "# Splitting the data into training and testing sets\n",
    "X_train, X_test, y_train, y_test = train_test_split(features, target, test_size=0.2, random_state=42)\n",
    "\n",
    "# Initialize and train the Random Forest model\n",
    "rf_model = RandomForestClassifier(random_state=42)\n",
    "rf_model.fit(X_train, y_train)\n",
    "\n",
    "# Predict on the test set\n",
    "y_pred = rf_model.predict(X_test)\n",
    "\n",
    "# Evaluate the model\n",
    "accuracy = accuracy_score(y_test, y_pred)\n",
    "classification_rep = classification_report(y_test, y_pred)\n",
    "confusion_mat = confusion_matrix(y_test, y_pred)\n",
    "\n",
    "print(\"Accuracy:\", accuracy)\n",
    "print(\"Classification Report:\\n\", classification_rep)\n",
    "print(\"Confusion Matrix:\\n\", confusion_mat)"
   ]
  },
  {
   "cell_type": "code",
   "execution_count": null,
   "id": "e27234c8-0088-4cb4-b7fb-66dc5fa41470",
   "metadata": {},
   "outputs": [],
   "source": []
  }
 ],
 "metadata": {
  "kernelspec": {
   "display_name": "Python 3 (ipykernel)",
   "language": "python",
   "name": "python3"
  },
  "language_info": {
   "codemirror_mode": {
    "name": "ipython",
    "version": 3
   },
   "file_extension": ".py",
   "mimetype": "text/x-python",
   "name": "python",
   "nbconvert_exporter": "python",
   "pygments_lexer": "ipython3",
   "version": "3.12.7"
  }
 },
 "nbformat": 4,
 "nbformat_minor": 5
}
